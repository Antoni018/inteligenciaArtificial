{
  "cells": [
    {
      "cell_type": "markdown",
      "metadata": {
        "id": "view-in-github",
        "colab_type": "text"
      },
      "source": [
        "<a href=\"https://colab.research.google.com/github/Antoni018/inteligenciaArtificial/blob/main/Lunes-10-Junio.ipynb\" target=\"_parent\"><img src=\"https://colab.research.google.com/assets/colab-badge.svg\" alt=\"Open In Colab\"/></a>"
      ]
    },
    {
      "cell_type": "code",
      "execution_count": 1,
      "metadata": {
        "id": "zwFnJsE6vjf8",
        "outputId": "e3fcd5bd-673f-420b-dc2b-250e010ef735",
        "colab": {
          "base_uri": "https://localhost:8080/"
        }
      },
      "outputs": [
        {
          "output_type": "stream",
          "name": "stdout",
          "text": [
            "Python 3.10.12\n"
          ]
        }
      ],
      "source": [
        "!python --version"
      ]
    },
    {
      "cell_type": "code",
      "source": [
        "myNumber= 3\n",
        "myNumberDecimal=3.6\n",
        "state=True"
      ],
      "metadata": {
        "id": "Xs40IXmPCqQg"
      },
      "execution_count": 3,
      "outputs": []
    },
    {
      "cell_type": "code",
      "source": [
        "print(f'valor entero: {myNumber}')\n",
        "print('valor entero es =',myNumber)\n",
        "print(f'valor decimal: {myNumberDecimal}')\n",
        "print('valor decimal es =',myNumberDecimal)\n",
        "print(f'valor booleano: {state}')\n",
        "print('valor booleano es =',state)"
      ],
      "metadata": {
        "id": "2JFxPaX_DTZX",
        "outputId": "d99f4c70-191a-4cc0-c244-9e2afd508667",
        "colab": {
          "base_uri": "https://localhost:8080/"
        }
      },
      "execution_count": 15,
      "outputs": [
        {
          "output_type": "stream",
          "name": "stdout",
          "text": [
            "valor entero: 3\n",
            "valor entero es = 3\n",
            "valor decimal: 3.6\n",
            "valor decimal es = 3.6\n",
            "valor booleano: True\n",
            "valor booleano es = True\n"
          ]
        }
      ]
    },
    {
      "cell_type": "code",
      "source": [
        "aux1=10\n",
        "aux2=2\n",
        "print('la suma de las variables aux1 + aux2 =',aux1 + aux2)\n",
        "print('la resta de las variables aux1 - aux2 =',aux1 - aux2)\n",
        "print('la multiplicación de las variables aux1 * aux2 =',aux1 * aux2)\n",
        "print('la divisón de las variables aux1 / aux2 =',aux1 / aux2)\n",
        "print('la potencia de las variables aux1  ^ aux2 =',aux1**aux2)"
      ],
      "metadata": {
        "id": "iGJ9VpC6EWZe",
        "outputId": "8aeacd22-8f0e-4000-e4b8-d07364a22988",
        "colab": {
          "base_uri": "https://localhost:8080/"
        }
      },
      "execution_count": 25,
      "outputs": [
        {
          "output_type": "stream",
          "name": "stdout",
          "text": [
            "la suma de las variables aux1 + aux2 = 12\n",
            "la resta de las variables aux1 - aux2 = 8\n",
            "la multiplicación de las variables aux1 * aux2 = 20\n",
            "la divisón de las variables aux1 / aux2 = 5.0\n",
            "la potencia de las variables aux1  ^ aux2 = 100\n"
          ]
        }
      ]
    },
    {
      "cell_type": "code",
      "source": [
        "var1 = 'Hola!'\n",
        "var2 = 'Wilmer'\n",
        "print(var1+' '+var2)"
      ],
      "metadata": {
        "id": "XvLfQdoDFwep",
        "outputId": "370912b6-c22e-4ef9-cbdd-31a63aa80942",
        "colab": {
          "base_uri": "https://localhost:8080/"
        }
      },
      "execution_count": 31,
      "outputs": [
        {
          "output_type": "stream",
          "name": "stdout",
          "text": [
            "Hola! Wilmer\n"
          ]
        }
      ]
    },
    {
      "cell_type": "code",
      "source": [
        "\n",
        "print(3*var1)"
      ],
      "metadata": {
        "id": "Hq3Xmyj6Ge6R",
        "outputId": "c183bed9-a711-4602-8f87-5187d5d022b7",
        "colab": {
          "base_uri": "https://localhost:8080/"
        }
      },
      "execution_count": 34,
      "outputs": [
        {
          "output_type": "stream",
          "name": "stdout",
          "text": [
            "Hola!Hola!Hola!\n"
          ]
        }
      ]
    },
    {
      "cell_type": "code",
      "source": [
        "num1 = 10\n",
        "num2 = 10.5\n"
      ],
      "metadata": {
        "id": "QXfDA166Gu5Q"
      },
      "execution_count": 35,
      "outputs": []
    },
    {
      "cell_type": "code",
      "source": [
        "print ('El tipo del dato 1 es: ', type(num1))\n",
        "print ('El tipo del dato 2 es: ', type(num2))"
      ],
      "metadata": {
        "id": "b9tenqGBHCeo",
        "outputId": "8805d0a7-73f6-4bde-966a-ff020a858aac",
        "colab": {
          "base_uri": "https://localhost:8080/"
        }
      },
      "execution_count": 37,
      "outputs": [
        {
          "output_type": "stream",
          "name": "stdout",
          "text": [
            "El tipo del dato 1 es:  <class 'int'>\n",
            "El tipo del dato 2 es:  <class 'float'>\n"
          ]
        }
      ]
    }
  ],
  "metadata": {
    "colab": {
      "name": "Te damos la bienvenida a Colaboratory",
      "toc_visible": true,
      "provenance": [],
      "include_colab_link": true
    },
    "kernelspec": {
      "display_name": "Python 3",
      "name": "python3"
    }
  },
  "nbformat": 4,
  "nbformat_minor": 0
}