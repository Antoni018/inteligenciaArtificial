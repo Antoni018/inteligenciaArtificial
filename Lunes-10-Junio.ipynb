{
  "cells": [
    {
      "cell_type": "markdown",
      "metadata": {
        "id": "view-in-github",
        "colab_type": "text"
      },
      "source": [
        "<a href=\"https://colab.research.google.com/github/Antoni018/inteligenciaArtificial/blob/main/Lunes-10-Junio.ipynb\" target=\"_parent\"><img src=\"https://colab.research.google.com/assets/colab-badge.svg\" alt=\"Open In Colab\"/></a>"
      ]
    },
    {
      "cell_type": "code",
      "execution_count": 2,
      "metadata": {
        "id": "zwFnJsE6vjf8",
        "outputId": "d9518faa-2c6c-4a1a-9e20-1cedbfd70204",
        "colab": {
          "base_uri": "https://localhost:8080/"
        }
      },
      "outputs": [
        {
          "output_type": "stream",
          "name": "stdout",
          "text": [
            "Python 3.10.12\n"
          ]
        }
      ],
      "source": [
        "!python --version"
      ]
    },
    {
      "cell_type": "code",
      "source": [
        "myNumber= 3\n",
        "myNumberDecimal=3.6\n",
        "state=True"
      ],
      "metadata": {
        "id": "Xs40IXmPCqQg"
      },
      "execution_count": null,
      "outputs": []
    },
    {
      "cell_type": "code",
      "source": [
        "print(f'valor entero: {myNumber}')\n",
        "print('valor entero es =',myNumber)\n",
        "print(f'valor decimal: {myNumberDecimal}')\n",
        "print('valor decimal es =',myNumberDecimal)\n",
        "print(f'valor booleano: {state}')\n",
        "print('valor booleano es =',state)"
      ],
      "metadata": {
        "id": "2JFxPaX_DTZX",
        "outputId": "d99f4c70-191a-4cc0-c244-9e2afd508667",
        "colab": {
          "base_uri": "https://localhost:8080/"
        }
      },
      "execution_count": null,
      "outputs": [
        {
          "output_type": "stream",
          "name": "stdout",
          "text": [
            "valor entero: 3\n",
            "valor entero es = 3\n",
            "valor decimal: 3.6\n",
            "valor decimal es = 3.6\n",
            "valor booleano: True\n",
            "valor booleano es = True\n"
          ]
        }
      ]
    },
    {
      "cell_type": "code",
      "source": [
        "aux1=10\n",
        "aux2=2\n",
        "print('la suma de las variables aux1 + aux2 =',aux1 + aux2)\n",
        "print('la resta de las variables aux1 - aux2 =',aux1 - aux2)\n",
        "print('la multiplicación de las variables aux1 * aux2 =',aux1 * aux2)\n",
        "print('la divisón de las variables aux1 / aux2 =',aux1 / aux2)\n",
        "print('la potencia de las variables aux1  ^ aux2 =',aux1**aux2)"
      ],
      "metadata": {
        "id": "iGJ9VpC6EWZe",
        "outputId": "8aeacd22-8f0e-4000-e4b8-d07364a22988",
        "colab": {
          "base_uri": "https://localhost:8080/"
        }
      },
      "execution_count": null,
      "outputs": [
        {
          "output_type": "stream",
          "name": "stdout",
          "text": [
            "la suma de las variables aux1 + aux2 = 12\n",
            "la resta de las variables aux1 - aux2 = 8\n",
            "la multiplicación de las variables aux1 * aux2 = 20\n",
            "la divisón de las variables aux1 / aux2 = 5.0\n",
            "la potencia de las variables aux1  ^ aux2 = 100\n"
          ]
        }
      ]
    },
    {
      "cell_type": "code",
      "source": [
        "var1 = 'Hola!'\n",
        "var2 = 'Wilmer'\n",
        "print(var1+' '+var2)"
      ],
      "metadata": {
        "id": "XvLfQdoDFwep",
        "outputId": "370912b6-c22e-4ef9-cbdd-31a63aa80942",
        "colab": {
          "base_uri": "https://localhost:8080/"
        }
      },
      "execution_count": null,
      "outputs": [
        {
          "output_type": "stream",
          "name": "stdout",
          "text": [
            "Hola! Wilmer\n"
          ]
        }
      ]
    },
    {
      "cell_type": "code",
      "source": [
        "\n",
        "print(3*var1)"
      ],
      "metadata": {
        "id": "Hq3Xmyj6Ge6R",
        "outputId": "c183bed9-a711-4602-8f87-5187d5d022b7",
        "colab": {
          "base_uri": "https://localhost:8080/"
        }
      },
      "execution_count": null,
      "outputs": [
        {
          "output_type": "stream",
          "name": "stdout",
          "text": [
            "Hola!Hola!Hola!\n"
          ]
        }
      ]
    },
    {
      "cell_type": "code",
      "source": [
        "num1 = 10\n",
        "num2 = 10.5\n"
      ],
      "metadata": {
        "id": "QXfDA166Gu5Q"
      },
      "execution_count": null,
      "outputs": []
    },
    {
      "cell_type": "code",
      "source": [
        "print ('El tipo del dato 1 es: ', type(num1))\n",
        "print ('El tipo del dato 2 es: ', type(num2))"
      ],
      "metadata": {
        "id": "b9tenqGBHCeo",
        "outputId": "87ba8615-49bd-4461-eb84-954df2924fd7",
        "colab": {
          "base_uri": "https://localhost:8080/"
        }
      },
      "execution_count": null,
      "outputs": [
        {
          "output_type": "stream",
          "name": "stdout",
          "text": [
            "El tipo del dato 1 es:  <class 'int'>\n",
            "El tipo del dato 2 es:  <class 'float'>\n"
          ]
        }
      ]
    },
    {
      "cell_type": "code",
      "source": [
        "# #MARTES 25 JUNIO 2024\n",
        "# tmp=list()\n",
        "# tmp.append(1)\n",
        "# tmp.append(\"Wilmer\")\n",
        "# print(tmp)\n",
        "# tmp.append(2)\n",
        "# tmp.append(\"Carlos\")\n",
        "# print(tmp)\n",
        "# print(tmp[3])\n",
        "# aux=tmp[3]\n",
        "# print(aux.upper())\n",
        "\n",
        "# tmp1='hello!'\n",
        "# print(tmp1.capitalize())\n",
        "\n",
        "# aux1=[1,2,3,4,5,6,7,8,9,10]\n",
        "# print(aux1)\n",
        "\n",
        "# aux1[4]=10\n",
        "# print(aux1)\n",
        "\n",
        "# print(aux1[-1])\n",
        "# print(aux1[3:7])\n",
        "# print(aux1[0:5])\n",
        "# print(aux1[:5])\n",
        "\n",
        "# aux2=list()\n",
        "# for i in range(100):\n",
        "#   aux2.append(i)\n",
        "# print(aux2[:20])\n",
        "# pares = [num for num in aux2 if num % 2 == 0]\n",
        "# print(pares)\n",
        "\n",
        "aux3=list()\n",
        "for indx, elem in enumerate(aux2):\n",
        "  if aux2[indx]%2==0:\n",
        "    aux3.append(aux2[indx])\n",
        "\n",
        "print(aux3)\n",
        "\n",
        "aux4=list()\n",
        "for indx, elem in enumerate(aux2):\n",
        "  if aux2[indx]%2==1:\n",
        "    aux4.append(aux2[indx])\n",
        "\n",
        "print(aux4)\n",
        "\n",
        "aux5=list()\n",
        "for indx, elem in enumerate(aux2):\n",
        "  if aux2[indx]%2==0:\n",
        "    aux5.append(aux2[indx]**2)\n",
        "\n",
        "print(aux5)\n",
        "\n",
        "animals=['Gato','Perro','Mono','Conejo']\n",
        "for animal in animals:\n",
        "  print(animal)\n",
        "\n",
        "tmp3=[ i**2 for i in range(10) ]\n",
        "print(tmp3)\n",
        "\n",
        "pares = [num for num in tmp3 if num % 2 == 0]\n",
        "print(pares)"
      ],
      "metadata": {
        "id": "kolt8J_alnhm",
        "outputId": "b0b0ce85-2f77-48c1-9703-1a8c071b310a",
        "colab": {
          "base_uri": "https://localhost:8080/"
        }
      },
      "execution_count": null,
      "outputs": [
        {
          "output_type": "stream",
          "name": "stdout",
          "text": [
            "[0, 2, 4, 6, 8, 10, 12, 14, 16, 18, 20, 22, 24, 26, 28, 30, 32, 34, 36, 38, 40, 42, 44, 46, 48, 50, 52, 54, 56, 58, 60, 62, 64, 66, 68, 70, 72, 74, 76, 78, 80, 82, 84, 86, 88, 90, 92, 94, 96, 98]\n",
            "[1, 3, 5, 7, 9, 11, 13, 15, 17, 19, 21, 23, 25, 27, 29, 31, 33, 35, 37, 39, 41, 43, 45, 47, 49, 51, 53, 55, 57, 59, 61, 63, 65, 67, 69, 71, 73, 75, 77, 79, 81, 83, 85, 87, 89, 91, 93, 95, 97, 99]\n",
            "[0, 4, 16, 36, 64, 100, 144, 196, 256, 324, 400, 484, 576, 676, 784, 900, 1024, 1156, 1296, 1444, 1600, 1764, 1936, 2116, 2304, 2500, 2704, 2916, 3136, 3364, 3600, 3844, 4096, 4356, 4624, 4900, 5184, 5476, 5776, 6084, 6400, 6724, 7056, 7396, 7744, 8100, 8464, 8836, 9216, 9604]\n",
            "Gato\n",
            "Perro\n",
            "Mono\n",
            "Conejo\n",
            "[0, 1, 4, 9, 16, 25, 36, 49, 64, 81]\n",
            "[0, 4, 16, 36, 64]\n"
          ]
        }
      ]
    },
    {
      "cell_type": "code",
      "source": [
        "myDictionary={'Gato':'Bonito', 'Perro':'Grande'}\n",
        "print(myDictionary['Gato'])\n",
        "myDictux={'Mono':'Negro','Raton':'Pequeño', 'Conejo':'Blanco'}\n",
        "myDictionary.update(myDictux)\n",
        "print(myDictionary)\n",
        "for key, value in myDictionary.items():\n",
        "  print(f' key : {key} value {value}')\n",
        "\n",
        "myList=[1,2,3,4,5,6]\n",
        "myDictux1={x:x**2 for x in myList}\n",
        "print(myDictux1)"
      ],
      "metadata": {
        "id": "E7hBiSRRvmkt",
        "outputId": "34b79170-b589-4973-cdfb-345918eff5be",
        "colab": {
          "base_uri": "https://localhost:8080/"
        }
      },
      "execution_count": null,
      "outputs": [
        {
          "output_type": "stream",
          "name": "stdout",
          "text": [
            "Bonito\n",
            "{'Gato': 'Bonito', 'Perro': 'Grande', 'Mono': 'Negro', 'Raton': 'Pequeño', 'Conejo': 'Blanco'}\n",
            " key : Gato value Bonito\n",
            " key : Perro value Grande\n",
            " key : Mono value Negro\n",
            " key : Raton value Pequeño\n",
            " key : Conejo value Blanco\n",
            "{1: 1, 2: 4, 3: 9, 4: 16, 5: 25, 6: 36}\n"
          ]
        }
      ]
    },
    {
      "cell_type": "code",
      "source": [
        "def suma(var1, var2, flag):\n",
        "  if flag==True:\n",
        "    tmp=var1 + var2\n",
        "  else:\n",
        "    tmp=var1 - var2\n",
        "  return tmp\n",
        "\n",
        "num1=3\n",
        "num2=7\n",
        "control=True\n",
        "print(suma(num1, num2, control))\n",
        "\n"
      ],
      "metadata": {
        "id": "zSPqC8ZXX_2p",
        "outputId": "b6e0db37-6759-40f9-9ffc-b0d14e802316",
        "colab": {
          "base_uri": "https://localhost:8080/"
        }
      },
      "execution_count": null,
      "outputs": [
        {
          "output_type": "stream",
          "name": "stdout",
          "text": [
            "10\n"
          ]
        }
      ]
    },
    {
      "cell_type": "code",
      "source": [
        "lista=[-1,+1,0]\n",
        "\n",
        "def signo(numero):\n",
        "  if numero > 0:\n",
        "    return 'Positivo'\n",
        "  if numero < 0:\n",
        "    return 'Negativo'\n",
        "  else:\n",
        "    return 'No tiene signo'\n",
        "\n",
        "for numero in lista:\n",
        "  print(f'El número {numero} es {signo(numero)}')"
      ],
      "metadata": {
        "id": "FFIJNPjZbPkU",
        "outputId": "efa623c7-afe4-4050-d460-825b025664dd",
        "colab": {
          "base_uri": "https://localhost:8080/"
        }
      },
      "execution_count": 3,
      "outputs": [
        {
          "output_type": "stream",
          "name": "stdout",
          "text": [
            "El número -1 es Negativo\n",
            "El número 1 es Positivo\n",
            "El número 0 es No tiene signo\n"
          ]
        }
      ]
    },
    {
      "cell_type": "code",
      "source": [
        "#SET AS A CONTAINER\n",
        "var1=set()\n",
        "var1.add(3)\n",
        "print(var1)\n",
        "var1.add('Wilmer')\n",
        "var1.add(True)\n",
        "print(var1)\n",
        "var1.add(5)\n",
        "print(var1)\n",
        "\n",
        "var1.remove('Wilmer')\n",
        "print(var1)\n",
        "\n",
        "print(len(var1))\n",
        "\n",
        "print(3 in var1)\n",
        "\n",
        "for elem in var1:\n",
        "  print(elem)\n"
      ],
      "metadata": {
        "id": "0hxzMUhRxDNe",
        "outputId": "2cbbc339-1927-4e25-f20c-985bbac7d451",
        "colab": {
          "base_uri": "https://localhost:8080/"
        }
      },
      "execution_count": 15,
      "outputs": [
        {
          "output_type": "stream",
          "name": "stdout",
          "text": [
            "{3}\n",
            "{'Wilmer', True, 3}\n",
            "{'Wilmer', True, 3, 5}\n",
            "{True, 3, 5}\n",
            "3\n",
            "True\n",
            "True\n",
            "3\n",
            "5\n"
          ]
        }
      ]
    },
    {
      "cell_type": "code",
      "source": [
        "#TUPLES\n",
        "var2 = tuple()\n",
        "var=(1,2,3,4,5)\n",
        "print(type(var))\n",
        "aux=list(var)\n",
        "print(type(aux))\n",
        "\n",
        "aux[2]=300\n",
        "var=tuple(aux)\n",
        "print(var)\n",
        "print(type(var))\n",
        "\n",
        "# nuevo_elemento = 10,'Wilmer', 10\n",
        "# var2 = var2 + (nuevo_elemento,)\n",
        "# print(var2)"
      ],
      "metadata": {
        "id": "CMPcyDkTzYX6",
        "outputId": "2ef0187f-e740-4f37-f0a2-236ffa89d1d0",
        "colab": {
          "base_uri": "https://localhost:8080/"
        }
      },
      "execution_count": 29,
      "outputs": [
        {
          "output_type": "stream",
          "name": "stdout",
          "text": [
            "<class 'tuple'>\n",
            "<class 'list'>\n",
            "(1, 2, 300, 4, 5)\n",
            "<class 'tuple'>\n"
          ]
        }
      ]
    },
    {
      "cell_type": "code",
      "source": [
        "#HOW TO DEFINE A CLASS\n",
        "class saludo(object):\n",
        "  def __init__(self,name):\n",
        "    print(\"El objeto ha sido creado\")\n",
        "    self.name=name\n",
        "\n",
        "  def saludoPersonal(self):\n",
        "    return f\"Hola, {self.name}\"\n",
        "\n",
        "name1=saludo('Wilmer')\n",
        "name2=saludo('Juan')\n",
        "name3=saludo('Maria')\n",
        "\n",
        "print(name1.saludoPersonal())\n",
        "print(name2.saludoPersonal())\n",
        "print(name3.saludoPersonal())"
      ],
      "metadata": {
        "id": "WdXFoldA2Y-z",
        "outputId": "a0f78105-d3a9-4d93-b201-8aba69bb43e1",
        "colab": {
          "base_uri": "https://localhost:8080/"
        }
      },
      "execution_count": 37,
      "outputs": [
        {
          "output_type": "stream",
          "name": "stdout",
          "text": [
            "El objeto ha sido creado\n",
            "El objeto ha sido creado\n",
            "El objeto ha sido creado\n",
            "Hola, Wilmer\n",
            "Hola, Juan\n",
            "Hola, Maria\n"
          ]
        }
      ]
    },
    {
      "cell_type": "code",
      "source": [
        "import math\n",
        "\n",
        "class FiguraGeometrica:\n",
        "    def __init__(self, tipo):\n",
        "        self.tipo = tipo\n",
        "\n",
        "    def calcular_area(self):\n",
        "        pass\n",
        "\n",
        "class Circulo(FiguraGeometrica):\n",
        "    def __init__(self, radio):\n",
        "        super().__init__(\"Círculo\")\n",
        "        self.radio = radio\n",
        "\n",
        "    def calcular_area(self):\n",
        "        return math.pi * self.radio**2\n",
        "\n",
        "class Triangulo(FiguraGeometrica):\n",
        "    def __init__(self, base, altura):\n",
        "        super().__init__(\"Triángulo\")\n",
        "        self.base = base\n",
        "        self.altura = altura\n",
        "\n",
        "    def calcular_area(self):\n",
        "        return (self.base * self.altura) / 2\n",
        "\n",
        "class Cuadrado(FiguraGeometrica):\n",
        "    def __init__(self, lado):\n",
        "        super().__init__(\"Cuadrado\")\n",
        "        self.lado = lado\n",
        "\n",
        "    def calcular_area(self):\n",
        "        return self.lado**2\n",
        "\n",
        "# Ejemplo de uso:\n",
        "circulo1 = Circulo(5)\n",
        "triangulo1 = Triangulo(4, 3)\n",
        "cuadrado1 = Cuadrado(5)\n",
        "\n",
        "print(f\"Área del {circulo1.tipo} con radio {circulo1.radio}: {circulo1.calcular_area()}\")\n",
        "print(f\"Área del {triangulo1.tipo} con base {triangulo1.base} y altura {triangulo1.altura}: {triangulo1.calcular_area()}\")\n",
        "print(f\"Área del {cuadrado1.tipo} con lado {cuadrado1.lado}: {cuadrado1.calcular_area()}\")\n"
      ],
      "metadata": {
        "id": "XDvZWxkl4ejx",
        "outputId": "f00dc3d1-20cb-4c17-8f74-6fb9eb228e9d",
        "colab": {
          "base_uri": "https://localhost:8080/"
        }
      },
      "execution_count": 46,
      "outputs": [
        {
          "output_type": "stream",
          "name": "stdout",
          "text": [
            "Área del Círculo con radio 5: 78.53981633974483\n",
            "Área del Triángulo con base 4 y altura 3: 6.0\n",
            "Área del Cuadrado con lado 5: 25\n"
          ]
        }
      ]
    },
    {
      "cell_type": "code",
      "source": [
        "class imprimir:\n",
        "    def __init__(self, name, age):\n",
        "        print(\"El objeto fue creado\")\n",
        "        self.name = name\n",
        "        self.age = age\n",
        "    def uppercase(self):\n",
        "        return f\"NOMBRE: {self.name.upper()} Y  LA EDAD: {self.age}\"\n",
        "\n",
        "student1 = imprimir(\"Wilmer\",21)\n",
        "\n",
        "print(student1.uppercase())"
      ],
      "metadata": {
        "id": "6vZv37G0_PUa",
        "outputId": "19026893-c9f4-46d1-c9dd-6929d58a6fd9",
        "colab": {
          "base_uri": "https://localhost:8080/"
        }
      },
      "execution_count": 64,
      "outputs": [
        {
          "output_type": "stream",
          "name": "stdout",
          "text": [
            "El objeto fue creado\n",
            "NOMBRE: WILMER Y  LA EDAD: 21\n"
          ]
        }
      ]
    },
    {
      "cell_type": "code",
      "source": [
        "class Calculadora:\n",
        "    def __init__(self, x, y):\n",
        "        self.x = x\n",
        "        self.y = y\n",
        "\n",
        "    def sumar(self):\n",
        "        resultado = self.x + self.y\n",
        "        self.verificar_par_impar(resultado)\n",
        "        return resultado\n",
        "\n",
        "    def restar(self):\n",
        "        resultado = self.x - self.y\n",
        "        self.verificar_par_impar(resultado)\n",
        "        return resultado\n",
        "\n",
        "    def multiplicar(self):\n",
        "        resultado = self.x * self.y\n",
        "        self.verificar_par_impar(resultado)\n",
        "        return resultado\n",
        "\n",
        "    def dividir(self):\n",
        "        if self.y != 0:\n",
        "            resultado = self.x / self.y\n",
        "            self.verificar_par_impar(resultado)\n",
        "            return resultado\n",
        "        else:\n",
        "            raise ValueError(\"Error: No se puede dividir por cero.\")\n",
        "\n",
        "    def verificar_par_impar(self, numero):\n",
        "        if numero % 2 == 0:\n",
        "            print(f\"El resultado {numero} es PAR.\")\n",
        "        else:\n",
        "            print(f\"El resultado {numero} es IMPAR.\")\n",
        "\n",
        "# Ejemplo de uso:\n",
        "calc = Calculadora(10, 2)\n",
        "\n",
        "print(f\"Suma: {calc.sumar()}\")\n",
        "print(f\"Resta: {calc.restar()}\")\n",
        "print(f\"Multiplicación: {calc.multiplicar()}\")\n",
        "print(f\"División: {calc.dividir()}\")\n"
      ],
      "metadata": {
        "id": "EFmSgYP-DYeo",
        "outputId": "862e937e-883b-4f82-cbae-04640ee1a6aa",
        "colab": {
          "base_uri": "https://localhost:8080/"
        }
      },
      "execution_count": 59,
      "outputs": [
        {
          "output_type": "stream",
          "name": "stdout",
          "text": [
            "El resultado 12 es PAR.\n",
            "Suma: 12\n",
            "El resultado 8 es PAR.\n",
            "Resta: 8\n",
            "El resultado 20 es PAR.\n",
            "Multiplicación: 20\n",
            "El resultado 5.0 es IMPAR.\n",
            "División: 5.0\n"
          ]
        }
      ]
    },
    {
      "cell_type": "code",
      "source": [],
      "metadata": {
        "id": "fJMdnI3zFY8n"
      },
      "execution_count": null,
      "outputs": []
    }
  ],
  "metadata": {
    "colab": {
      "name": "Te damos la bienvenida a Colaboratory",
      "toc_visible": true,
      "provenance": [],
      "include_colab_link": true
    },
    "kernelspec": {
      "display_name": "Python 3",
      "name": "python3"
    }
  },
  "nbformat": 4,
  "nbformat_minor": 0
}