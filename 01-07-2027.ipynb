{
  "nbformat": 4,
  "nbformat_minor": 0,
  "metadata": {
    "colab": {
      "provenance": [],
      "authorship_tag": "ABX9TyPHB2v+k8i5UWVCn4J4Aqvt",
      "include_colab_link": true
    },
    "kernelspec": {
      "name": "python3",
      "display_name": "Python 3"
    },
    "language_info": {
      "name": "python"
    }
  },
  "cells": [
    {
      "cell_type": "markdown",
      "metadata": {
        "id": "view-in-github",
        "colab_type": "text"
      },
      "source": [
        "<a href=\"https://colab.research.google.com/github/Antoni018/inteligenciaArtificial/blob/main/01-07-2027.ipynb\" target=\"_parent\"><img src=\"https://colab.research.google.com/assets/colab-badge.svg\" alt=\"Open In Colab\"/></a>"
      ]
    },
    {
      "cell_type": "code",
      "execution_count": 15,
      "metadata": {
        "colab": {
          "base_uri": "https://localhost:8080/"
        },
        "id": "YcDibX8m8iaP",
        "outputId": "291c9ef5-b970-406d-ed98-16ed6e025bd5"
      },
      "outputs": [
        {
          "output_type": "stream",
          "name": "stdout",
          "text": [
            "(3,)\n",
            "<class 'numpy.ndarray'>\n",
            "[11 22 33]\n",
            "11 22\n",
            "[11 22]\n",
            "[22 33]\n",
            "[ 11 888  33]\n"
          ]
        }
      ],
      "source": [
        "import numpy as np\n",
        "\n",
        "a=np.array([11,22,33])\n",
        "print(a.shape)\n",
        "print(type(a))\n",
        "print(a)\n",
        "\n",
        "print(a[0], a[1])\n",
        "print(a[0:2])\n",
        "print(a[1:])\n",
        "\n",
        "a[1]=888\n",
        "print(a)\n"
      ]
    },
    {
      "cell_type": "code",
      "source": [
        "b=np.array([[11,22,33],[44,55,66],[77,88,99]])\n",
        "print(b.shape)\n",
        "print(type(b))\n",
        "print(b)\n",
        "\n",
        "print(b[1,1])\n",
        "aux=b[1:,1:].copy()\n",
        "print(aux.shape)\n",
        "print(aux)\n",
        "\n",
        "print('ANTES....')\n",
        "print(b)\n",
        "print(aux)\n",
        "\n",
        "aux[1,1]=1000\n",
        "\n",
        "print('DESPUES...')\n",
        "print(b)\n",
        "print(aux)"
      ],
      "metadata": {
        "colab": {
          "base_uri": "https://localhost:8080/"
        },
        "id": "xgHIug7VAeEi",
        "outputId": "01e43522-3616-49a0-df37-90a7b3279d21"
      },
      "execution_count": 31,
      "outputs": [
        {
          "output_type": "stream",
          "name": "stdout",
          "text": [
            "(3, 3)\n",
            "<class 'numpy.ndarray'>\n",
            "[[11 22 33]\n",
            " [44 55 66]\n",
            " [77 88 99]]\n",
            "55\n",
            "(2, 2)\n",
            "[[55 66]\n",
            " [88 99]]\n",
            "ANTES....\n",
            "[[11 22 33]\n",
            " [44 55 66]\n",
            " [77 88 99]]\n",
            "[[55 66]\n",
            " [88 99]]\n",
            "DESPUES...\n",
            "[[11 22 33]\n",
            " [44 55 66]\n",
            " [77 88 99]]\n",
            "[[  55   66]\n",
            " [  88 1000]]\n"
          ]
        }
      ]
    },
    {
      "cell_type": "code",
      "source": [
        "c=np.zeros((4,4))\n",
        "print(c)\n",
        "print(c.shape)\n",
        "\n",
        "d=np.full((4,4),9)\n",
        "print(d)"
      ],
      "metadata": {
        "colab": {
          "base_uri": "https://localhost:8080/"
        },
        "id": "k__nWBUbDqGa",
        "outputId": "7674c35f-9e09-4934-9c69-7a8542ceca1b"
      },
      "execution_count": 36,
      "outputs": [
        {
          "output_type": "stream",
          "name": "stdout",
          "text": [
            "[[0. 0. 0. 0.]\n",
            " [0. 0. 0. 0.]\n",
            " [0. 0. 0. 0.]\n",
            " [0. 0. 0. 0.]]\n",
            "(4, 4)\n",
            "[[9 9 9 9]\n",
            " [9 9 9 9]\n",
            " [9 9 9 9]\n",
            " [9 9 9 9]]\n"
          ]
        }
      ]
    },
    {
      "cell_type": "code",
      "source": [
        "  e=np.eye(3,3)\n",
        "  print(e)\n",
        "  f=np.ones((4,5))\n",
        "  print(f)"
      ],
      "metadata": {
        "colab": {
          "base_uri": "https://localhost:8080/"
        },
        "id": "pOHdt_HQEd0g",
        "outputId": "4224e62b-c06c-4677-9a6b-3bea69993041"
      },
      "execution_count": 40,
      "outputs": [
        {
          "output_type": "stream",
          "name": "stdout",
          "text": [
            "[[1. 0. 0.]\n",
            " [0. 1. 0.]\n",
            " [0. 0. 1.]]\n",
            "[[1. 1. 1. 1. 1.]\n",
            " [1. 1. 1. 1. 1.]\n",
            " [1. 1. 1. 1. 1.]\n",
            " [1. 1. 1. 1. 1.]]\n"
          ]
        }
      ]
    },
    {
      "cell_type": "code",
      "source": [
        "g=np.random.random((5,5))\n",
        "print(g)"
      ],
      "metadata": {
        "colab": {
          "base_uri": "https://localhost:8080/"
        },
        "id": "5va_BjY3F3FR",
        "outputId": "593e3147-5417-4912-f32d-f8b3e5088afe"
      },
      "execution_count": 45,
      "outputs": [
        {
          "output_type": "stream",
          "name": "stdout",
          "text": [
            "[[0.24159987 0.17052845 0.21724934 0.42790918 0.4819766 ]\n",
            " [0.766621   0.25667367 0.13332506 0.44989292 0.26028065]\n",
            " [0.43672544 0.57427573 0.68819656 0.89324545 0.49721416]\n",
            " [0.47286933 0.83208935 0.65665585 0.59581535 0.1716983 ]\n",
            " [0.03341136 0.86405876 0.05365493 0.78496892 0.11614335]]\n"
          ]
        }
      ]
    },
    {
      "cell_type": "code",
      "source": [
        "tmp1=np.random.randint(1,21, size=(4,4))\n",
        "print(tmp1)\n",
        "rows=np.array([0,1,2,0])\n",
        "cols=np.arange(4)\n",
        "\n",
        "print(rows)\n",
        "print(cols)\n",
        "\n"
      ],
      "metadata": {
        "colab": {
          "base_uri": "https://localhost:8080/"
        },
        "id": "qIgzkjIOFEEn",
        "outputId": "705c3b5e-aedb-4ba4-f9cd-da7021187ba2"
      },
      "execution_count": 63,
      "outputs": [
        {
          "output_type": "stream",
          "name": "stdout",
          "text": [
            "[[ 5 16  1 11]\n",
            " [18  8 14 14]\n",
            " [18  4 15  3]\n",
            " [13  1 19  1]]\n",
            "[0 1 2 0]\n",
            "[0 1 2 3]\n"
          ]
        }
      ]
    },
    {
      "cell_type": "code",
      "source": [
        "tmp1[rows, cols]=100\n",
        "print(tmp1)"
      ],
      "metadata": {
        "colab": {
          "base_uri": "https://localhost:8080/"
        },
        "id": "zkk60DFVJgcQ",
        "outputId": "324185e2-8ff9-4acc-c90a-cf025a534dbf"
      },
      "execution_count": 64,
      "outputs": [
        {
          "output_type": "stream",
          "name": "stdout",
          "text": [
            "[[100  16   1 100]\n",
            " [ 18 100  14  14]\n",
            " [ 18   4 100   3]\n",
            " [ 13   1  19   1]]\n"
          ]
        }
      ]
    },
    {
      "cell_type": "code",
      "source": [
        "tmp2=np.random.randint(20,50, size=(6,6))\n",
        "print(tmp2)"
      ],
      "metadata": {
        "colab": {
          "base_uri": "https://localhost:8080/"
        },
        "id": "YNI-AFMrKN-x",
        "outputId": "5573556c-50ed-4ce0-a728-c99e4fb1ac4d"
      },
      "execution_count": 65,
      "outputs": [
        {
          "output_type": "stream",
          "name": "stdout",
          "text": [
            "[[32 33 27 34 28 35]\n",
            " [48 47 45 48 29 33]\n",
            " [47 26 45 29 45 22]\n",
            " [27 34 40 42 28 47]\n",
            " [27 27 26 42 37 28]\n",
            " [46 26 39 30 41 29]]\n"
          ]
        }
      ]
    },
    {
      "cell_type": "code",
      "source": [
        "mask = tmp2 > 45\n",
        "print(mask)\n",
        "elemay = tmp2[mask]\n",
        "\n",
        "print(\"Elementos mayores a 45:\")\n",
        "print(elemay)"
      ],
      "metadata": {
        "colab": {
          "base_uri": "https://localhost:8080/"
        },
        "id": "Ylfu-h-MKqkg",
        "outputId": "2a20110b-bb6b-4af3-a8d4-0d6dae9dd9ad"
      },
      "execution_count": 70,
      "outputs": [
        {
          "output_type": "stream",
          "name": "stdout",
          "text": [
            "[[False False False False False False]\n",
            " [ True  True False  True False False]\n",
            " [ True False False False False False]\n",
            " [False False False False False  True]\n",
            " [False False False False False False]\n",
            " [ True False False False False False]]\n",
            "Elementos mayores a 45:\n",
            "[48 47 48 47 47 46]\n"
          ]
        }
      ]
    },
    {
      "cell_type": "code",
      "source": [
        "tmp3=np.random.randint(1,100, size=(10,10))\n",
        "print(tmp3)"
      ],
      "metadata": {
        "colab": {
          "base_uri": "https://localhost:8080/"
        },
        "id": "dH2PUpeAMZzZ",
        "outputId": "0334b0f7-9a06-4de3-ba04-ceb192db25f4"
      },
      "execution_count": 71,
      "outputs": [
        {
          "output_type": "stream",
          "name": "stdout",
          "text": [
            "[[70 58 13 87 22 42 11 44 76 37]\n",
            " [ 8  1 63 32 33  2 55  4 16 40]\n",
            " [59 27 68 14 95 53 34 27 93 95]\n",
            " [36 75 16 50 90 30  4 76 47 18]\n",
            " [34 39  3 84 98 51 53 43 48 20]\n",
            " [97 96 37 22 44 64 11 64 73 94]\n",
            " [11 58 84 49 33 61 99 67  5 28]\n",
            " [64 21 30 51 67 94 78 69 11  9]\n",
            " [37 61 57 61 23 62 37 46 33 51]\n",
            " [27  2 55 97 81 26 16  1 93 30]]\n"
          ]
        }
      ]
    },
    {
      "cell_type": "code",
      "source": [
        "mask2 = ((tmp3%2)==0)\n",
        "# print(mask2)\n",
        "elepar = tmp3[mask2]\n",
        "\n",
        "print(\"Elementos pares:\")\n",
        "print(elepar)"
      ],
      "metadata": {
        "colab": {
          "base_uri": "https://localhost:8080/"
        },
        "id": "xDmtGnq9Mln5",
        "outputId": "bf4db4c8-1993-4d0b-b86c-ebb379e3636c"
      },
      "execution_count": 77,
      "outputs": [
        {
          "output_type": "stream",
          "name": "stdout",
          "text": [
            "Elementos pares:\n",
            "[70 58 22 42 44 76  8 32  2  4 16 40 68 14 34 36 16 50 90 30  4 76 18 34\n",
            " 84 98 48 20 96 22 44 64 64 94 58 84 28 64 30 94 78 62 46  2 26 16 30]\n"
          ]
        }
      ]
    },
    {
      "cell_type": "code",
      "source": [
        "tmp4=np.array([1,2,3,4,5],dtype=np.float64)\n",
        "print(tmp4.dtype)\n",
        "print(tmp4)"
      ],
      "metadata": {
        "colab": {
          "base_uri": "https://localhost:8080/"
        },
        "id": "BAnx-ItFOq7h",
        "outputId": "42fdb9e7-b887-4e2e-9430-d35c8a05ccd5"
      },
      "execution_count": 80,
      "outputs": [
        {
          "output_type": "stream",
          "name": "stdout",
          "text": [
            "float64\n",
            "[1. 2. 3. 4. 5.]\n"
          ]
        }
      ]
    },
    {
      "cell_type": "code",
      "source": [
        "x=np.array([[1,2],[3,4]])\n",
        "y=np.array([[5,6],[7,8]])\n",
        "\n",
        "print(x)\n",
        "print(y)\n",
        "print('SUMA')\n",
        "print(np.add(x,y))\n",
        "print('RESTA')\n",
        "print(np.subtract(x,y))\n",
        "print('MULTIPLICACION')\n",
        "print(np.multiply(x,y))\n",
        "print('DIVISION')\n",
        "print(np.divide(x,y))\n",
        "print('RAIZ')\n",
        "print(np.sqrt(x))\n",
        "print('POTENCIA')\n",
        "print(np.power(x,y))\n"
      ],
      "metadata": {
        "colab": {
          "base_uri": "https://localhost:8080/"
        },
        "id": "_bIRxCFwPKX3",
        "outputId": "d2bd7b16-2e53-47e1-f6c0-4a30ac203a5b"
      },
      "execution_count": 94,
      "outputs": [
        {
          "output_type": "stream",
          "name": "stdout",
          "text": [
            "[[1 2]\n",
            " [3 4]]\n",
            "[[5 6]\n",
            " [7 8]]\n",
            "SUMA\n",
            "[[ 6  8]\n",
            " [10 12]]\n",
            "RESTA\n",
            "[[-4 -4]\n",
            " [-4 -4]]\n",
            "MULTIPLICACION\n",
            "[[ 5 12]\n",
            " [21 32]]\n",
            "DIVISION\n",
            "[[0.2        0.33333333]\n",
            " [0.42857143 0.5       ]]\n",
            "RAIZ\n",
            "[[1.         1.41421356]\n",
            " [1.73205081 2.        ]]\n",
            "POTENCIA\n",
            "[[    1    64]\n",
            " [ 2187 65536]]\n"
          ]
        }
      ]
    },
    {
      "cell_type": "code",
      "source": [
        "tmp5=np.random.randint(1,10, size=(2,5))\n",
        "print(tmp5)\n",
        "aux=tmp5.mean()\n",
        "print(aux)"
      ],
      "metadata": {
        "colab": {
          "base_uri": "https://localhost:8080/"
        },
        "id": "_5YTWacDQfuP",
        "outputId": "b38bcc95-110f-4cd4-b5c9-1058476ebb25"
      },
      "execution_count": 99,
      "outputs": [
        {
          "output_type": "stream",
          "name": "stdout",
          "text": [
            "[[4 7 9 7 2]\n",
            " [1 8 6 9 2]]\n",
            "5.5\n"
          ]
        }
      ]
    },
    {
      "cell_type": "code",
      "source": [
        "print(tmp5.mean(axis=1))\n",
        "print(tmp5.mean(axis=0))"
      ],
      "metadata": {
        "colab": {
          "base_uri": "https://localhost:8080/"
        },
        "id": "ax0uw7KARC73",
        "outputId": "29273720-747f-46e7-8e9c-459bfa85437e"
      },
      "execution_count": 102,
      "outputs": [
        {
          "output_type": "stream",
          "name": "stdout",
          "text": [
            "[5.8 5.2]\n",
            "[2.5 7.5 7.5 8.  2. ]\n"
          ]
        }
      ]
    }
  ]
}